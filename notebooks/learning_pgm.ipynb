{
 "cells": [
  {
   "cell_type": "markdown",
   "metadata": {},
   "source": [
    "# Learning Bayesian Networks\n",
    "\n",
    "\n",
    "### Parameter Learning\n",
    "Given a set of data samples and a DAG that captures the dependencies of between variables of a Fraudulent customer, we can estimate the CPD of the individual variables.\n",
    "\n",
    "### Structure Learning\n",
    "Given a set of data samples, we aim to estimate the structure of the DAG (Not covered)\n",
    "\n"
   ]
  },
  {
   "cell_type": "markdown",
   "metadata": {},
   "source": [
    "Suppose we have the following data related to customer transactions:"
   ]
  },
  {
   "cell_type": "code",
   "execution_count": 1,
   "metadata": {},
   "outputs": [
    {
     "name": "stdout",
     "output_type": "stream",
     "text": [
      "---------------Transactions--------------\n",
      "\n",
      "    cur  amt cntry fraud\n",
      "0   btc  lge    za    no\n",
      "1   btc  lge    ng   yes\n",
      "2   eth  lge    za    no\n",
      "3   btc  lge    ng   yes\n",
      "4   eth  sml    za   yes\n",
      "5   btc  lge    ng   yes\n",
      "6   eth  lge    za   yes\n",
      "7   btc  lge    ng   yes\n",
      "8   eth  sml    za   yes\n",
      "9   eth  lge    za   yes\n",
      "10  eth  lge    za   yes\n",
      "11  btc  lge    ng   yes\n",
      "12  btc  lge    ng    no\n",
      "13  eth  sml    za    no\n",
      "14  btc  sml    ng    no\n",
      "15  eth  sml    za    no\n"
     ]
    }
   ],
   "source": [
    "# Import Required Packages\n",
    "import pandas as pd\n",
    "from pgmpy.models import BayesianModel\n",
    "from pgmpy.estimators import ParameterEstimator\n",
    "from pgmpy.estimators import MaximumLikelihoodEstimator\n",
    "from pgmpy.estimators import BayesianEstimator\n",
    "import networkx as nx\n",
    "import pylab as plt\n",
    "\n",
    "# Transactions data set\n",
    "trans_data = pd.DataFrame(data={'cur': [\"btc\",\"btc\", \"eth\", \"btc\", \"eth\", \"btc\",\"eth\", \"btc\", \n",
    "                                    \"eth\", \"eth\", \"eth\", \"btc\", \"btc\", \"eth\", \"btc\",\"eth\"], \n",
    "                          'amt': [\"lge\",\"lge\", \"lge\", \"lge\", \"sml\", \"lge\", \"lge\", \"lge\",\n",
    "                                    \"sml\", \"lge\", \"lge\", \"lge\", \"lge\", \"sml\", \"sml\",\"sml\"],\n",
    "                          'cntry': [\"za\",\"ng\", \"za\", \"ng\", \"za\", \"ng\", \"za\", \"ng\",\n",
    "                                    \"za\", \"za\", \"za\", \"ng\", \"ng\", \"za\", \"ng\",\"za\"],\n",
    "                          'fraud': [\"no\",\"yes\", \"no\", \"yes\", \"yes\", \"yes\", \"yes\", \"yes\", \n",
    "                                    \"yes\", \"yes\", \"yes\", \"yes\", \"no\", \"no\", \"no\",\"no\"] })\n",
    "print('---------------Transactions--------------\\n')\n",
    "print(trans_data)"
   ]
  },
  {
   "cell_type": "code",
   "execution_count": 2,
   "metadata": {},
   "outputs": [
    {
     "data": {
      "image/png": "[encoded data removed]",
      "text/plain": [
       "<Figure size 432x288 with 1 Axes>"
      ]
     },
     "metadata": {},
     "output_type": "display_data"
    }
   ],
   "source": [
    "fraud_model = BayesianModel([('cur', 'fraud'), ('amt', 'fraud'), ('cntry','fraud')])  \n",
    "\n",
    "# Fraud Bayesian Network Plot\n",
    "nx.draw(fraud_model,width = 3,node_size = 2700, font_size = 10,node_color = 'g', with_labels=True)\n",
    "plt.show()"
   ]
  },
  {
   "cell_type": "code",
   "execution_count": 3,
   "metadata": {},
   "outputs": [
    {
     "name": "stdout",
     "output_type": "stream",
     "text": [
      "\n",
      "---------------------------\n",
      "\n",
      "      cur\n",
      "btc    8\n",
      "eth    8\n",
      "\n",
      "---------------------------\n",
      "\n",
      "\n",
      " amt    lge                 sml               \n",
      "cntry   ng        za        ng        za     \n",
      "cur    btc  eth  btc  eth  btc  eth  btc  eth\n",
      "fraud                                        \n",
      "no     1.0  0.0  1.0  1.0  1.0  0.0  0.0  2.0\n",
      "yes    5.0  0.0  0.0  3.0  0.0  0.0  0.0  2.0\n",
      "\n",
      "---------------------------\n",
      "\n"
     ]
    }
   ],
   "source": [
    "print(\"\\n---------------------------\")\n",
    "\n",
    "pe = ParameterEstimator(fraud_model, trans_data)\n",
    "print(\"\\n\", pe.state_counts('cur'))  # unconditional\n",
    "\n",
    "print(\"\\n---------------------------\\n\")\n",
    "\n",
    "print(\"\\n\", pe.state_counts('fraud'))  # conditional on amount, currency and amount\n",
    "\n",
    "print(\"\\n---------------------------\\n\")"
   ]
  },
  {
   "cell_type": "code",
   "execution_count": 4,
   "metadata": {},
   "outputs": [
    {
     "name": "stdout",
     "output_type": "stream",
     "text": [
      "+----------+-----+\n",
      "| cur(btc) | 0.5 |\n",
      "+----------+-----+\n",
      "| cur(eth) | 0.5 |\n",
      "+----------+-----+\n",
      "+------------+---------------------+-----------+-----------+-----------+-----------+-----------+-----------+-----------+\n",
      "| amt        | amt(lge)            | amt(lge)  | amt(lge)  | amt(lge)  | amt(sml)  | amt(sml)  | amt(sml)  | amt(sml)  |\n",
      "+------------+---------------------+-----------+-----------+-----------+-----------+-----------+-----------+-----------+\n",
      "| cntry      | cntry(ng)           | cntry(ng) | cntry(za) | cntry(za) | cntry(ng) | cntry(ng) | cntry(za) | cntry(za) |\n",
      "+------------+---------------------+-----------+-----------+-----------+-----------+-----------+-----------+-----------+\n",
      "| cur        | cur(btc)            | cur(eth)  | cur(btc)  | cur(eth)  | cur(btc)  | cur(eth)  | cur(btc)  | cur(eth)  |\n",
      "+------------+---------------------+-----------+-----------+-----------+-----------+-----------+-----------+-----------+\n",
      "| fraud(no)  | 0.16666666666666666 | 0.5       | 1.0       | 0.25      | 1.0       | 0.5       | 0.5       | 0.5       |\n",
      "+------------+---------------------+-----------+-----------+-----------+-----------+-----------+-----------+-----------+\n",
      "| fraud(yes) | 0.8333333333333334  | 0.5       | 0.0       | 0.75      | 0.0       | 0.5       | 0.5       | 0.5       |\n",
      "+------------+---------------------+-----------+-----------+-----------+-----------+-----------+-----------+-----------+\n"
     ]
    }
   ],
   "source": [
    "mle = MaximumLikelihoodEstimator(fraud_model, trans_data)\n",
    "print(mle.estimate_cpd('cur'))  # unconditional based on currency node\n",
    "print(mle.estimate_cpd('fraud'))  # conditional based on fraud node"
   ]
  },
  {
   "cell_type": "markdown",
   "metadata": {},
   "source": [
    "A convenient way to calculate the associated CPD using one function call can also be done:"
   ]
  },
  {
   "cell_type": "code",
   "execution_count": 5,
   "metadata": {},
   "outputs": [],
   "source": [
    "# Calcualte all CPDs of `fraud_model` using MLE function call:\n",
    "fraud_model.fit(trans_data, estimator=MaximumLikelihoodEstimator)"
   ]
  },
  {
   "cell_type": "code",
   "execution_count": 9,
   "metadata": {},
   "outputs": [
    {
     "name": "stdout",
     "output_type": "stream",
     "text": [
      "+------------+---------------------+-----------+--------------------+---------------------+--------------------+-----------+-----------+-----------+\n",
      "| amt        | amt(lge)            | amt(lge)  | amt(lge)           | amt(lge)            | amt(sml)           | amt(sml)  | amt(sml)  | amt(sml)  |\n",
      "+------------+---------------------+-----------+--------------------+---------------------+--------------------+-----------+-----------+-----------+\n",
      "| cntry      | cntry(ng)           | cntry(ng) | cntry(za)          | cntry(za)           | cntry(ng)          | cntry(ng) | cntry(za) | cntry(za) |\n",
      "+------------+---------------------+-----------+--------------------+---------------------+--------------------+-----------+-----------+-----------+\n",
      "| cur        | cur(btc)            | cur(eth)  | cur(btc)           | cur(eth)            | cur(btc)           | cur(eth)  | cur(btc)  | cur(eth)  |\n",
      "+------------+---------------------+-----------+--------------------+---------------------+--------------------+-----------+-----------+-----------+\n",
      "| fraud(no)  | 0.22413793103448276 | 0.5       | 0.7222222222222222 | 0.30952380952380953 | 0.7222222222222222 | 0.5       | 0.5       | 0.5       |\n",
      "+------------+---------------------+-----------+--------------------+---------------------+--------------------+-----------+-----------+-----------+\n",
      "| fraud(yes) | 0.7758620689655172  | 0.5       | 0.2777777777777778 | 0.6904761904761905  | 0.2777777777777778 | 0.5       | 0.5       | 0.5       |\n",
      "+------------+---------------------+-----------+--------------------+---------------------+--------------------+-----------+-----------+-----------+\n"
     ]
    }
   ],
   "source": [
    "est = BayesianEstimator(fraud_model, trans_data)\n",
    "\n",
    "#Using Bayesian Direchlet uniform prior\n",
    "print(est.estimate_cpd('fraud', prior_type='BDeu', equivalent_sample_size=10))"
   ]
  }
 ],
 "metadata": {
  "anaconda-cloud": {},
  "kernelspec": {
   "display_name": "Python 3",
   "language": "python",
   "name": "python3"
  },
  "language_info": {
   "codemirror_mode": {
    "name": "ipython",
    "version": 3
   },
   "file_extension": ".py",
   "mimetype": "text/x-python",
   "name": "python",
   "nbconvert_exporter": "python",
   "pygments_lexer": "ipython3",
   "version": "3.7.3"
  }
 },
 "nbformat": 4,
 "nbformat_minor": 1
}
