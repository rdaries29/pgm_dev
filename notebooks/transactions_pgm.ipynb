{
 "cells": [
  {
   "cell_type": "markdown",
   "metadata": {},
   "source": [
    "The Transcations PGM shown here is derived from the cancer (http://www.bnlearn.com/bnrepository/#cancer) bayesian network architecture using pgmpy and do some simple queries on the network.\n",
    "\n",
    "In pgmpy, the general flow of defining a network is to first define the network and then add the parameters to it.\n",
    "Then we will begin querying the network for results.\n",
    "\n",
    "Note: In this example we are using discrete values for random variables Time,Amount,Suspicious,Fraud and User Error {0,1} for demonstration purposes."
   ]
  },
  {
   "cell_type": "code",
   "execution_count": 19,
   "metadata": {},
   "outputs": [
    {
     "data": {
      "image/png": "[encoded data removed]",
      "text/plain": [
       "<Figure size 432x288 with 1 Axes>"
      ]
     },
     "metadata": {},
     "output_type": "display_data"
    }
   ],
   "source": [
    "# Import Required Packages\n",
    "from pgmpy.models import BayesianModel\n",
    "import networkx as nx\n",
    "import pylab as plt\n",
    "\n",
    "\n",
    "#Initialise Bayesian Transactions Model\n",
    "transact_model = BayesianModel([('Time', 'Suspicious'), \n",
    "                              ('Amount', 'Suspicious'),\n",
    "                              ('Suspicious', 'Fraud'),\n",
    "                              ('Suspicious', 'User Error')]) \n",
    "\n",
    "\n",
    "# Display PGM using NetworkX package\n",
    "nx.draw(transact_model,width = 3,node_size = 2700, font_size = 10, with_labels=True)\n",
    "plt.show()"
   ]
  },
  {
   "cell_type": "code",
   "execution_count": 47,
   "metadata": {},
   "outputs": [],
   "source": [
    "# Creating the CPD associated with the network\n",
    "from pgmpy.factors.discrete import TabularCPD\n",
    "\n",
    "cpd_time = TabularCPD(variable='Time', variable_card=2,\n",
    "                      values=[[0.9], [0.1]])\n",
    "\n",
    "cpd_amount = TabularCPD(variable='Amount', variable_card=2,\n",
    "                       values=[[0.3], [0.7]])\n",
    "\n",
    "cpd_suspicious = TabularCPD(variable='Suspicious', variable_card=2,\n",
    "                        values=[[0.03, 0.05, 0.001, 0.02],\n",
    "                                [0.97, 0.95, 0.999, 0.98]],\n",
    "                        evidence=['Amount', 'Time'],\n",
    "                        evidence_card=[2, 2])\n",
    "\n",
    "cpd_fraud = TabularCPD(variable='Fraud', variable_card=2,\n",
    "                      values=[[0.9, 0.2], [0.1, 0.8]],\n",
    "                      evidence=['Suspicious'], evidence_card=[2])\n",
    "\n",
    "cpd_user_error = TabularCPD(variable='User Error', variable_card=2,\n",
    "                      values=[[0.65, 0.3], [0.35, 0.7]],\n",
    "                      evidence=['Suspicious'], evidence_card=[2])"
   ]
  },
  {
   "cell_type": "code",
   "execution_count": 48,
   "metadata": {},
   "outputs": [
    {
     "name": "stdout",
     "output_type": "stream",
     "text": [
      "+-----------+-----+\n",
      "| Amount(0) | 0.3 |\n",
      "+-----------+-----+\n",
      "| Amount(1) | 0.7 |\n",
      "+-----------+-----+\n"
     ]
    }
   ],
   "source": [
    "print(cpd_amount)"
   ]
  },
  {
   "cell_type": "code",
   "execution_count": 49,
   "metadata": {},
   "outputs": [
    {
     "name": "stdout",
     "output_type": "stream",
     "text": [
      "+------------+---------------+---------------+\n",
      "| Suspicious | Suspicious(0) | Suspicious(1) |\n",
      "+------------+---------------+---------------+\n",
      "| Fraud(0)   | 0.9           | 0.2           |\n",
      "+------------+---------------+---------------+\n",
      "| Fraud(1)   | 0.1           | 0.8           |\n",
      "+------------+---------------+---------------+\n"
     ]
    }
   ],
   "source": [
    "print(cpd_fraud)"
   ]
  },
  {
   "cell_type": "code",
   "execution_count": 50,
   "metadata": {},
   "outputs": [
    {
     "name": "stderr",
     "output_type": "stream",
     "text": [
      "WARNING:root:Replacing existing CPD for Time\n",
      "WARNING:root:Replacing existing CPD for Amount\n",
      "WARNING:root:Replacing existing CPD for Suspicious\n",
      "WARNING:root:Replacing existing CPD for Fraud\n",
      "WARNING:root:Replacing existing CPD for User Error\n"
     ]
    }
   ],
   "source": [
    "# Associating the cpds with the Bayesian Network\n",
    "transact_model.add_cpds(cpd_time, cpd_amount, cpd_suspicious, cpd_fraud, cpd_user_error)"
   ]
  },
  {
   "cell_type": "code",
   "execution_count": 51,
   "metadata": {},
   "outputs": [
    {
     "data": {
      "text/plain": [
       "True"
      ]
     },
     "execution_count": 51,
     "metadata": {},
     "output_type": "execute_result"
    }
   ],
   "source": [
    "# Checking if the transactions cpds are valid for the model.\n",
    "transact_model.check_model()"
   ]
  },
  {
   "cell_type": "code",
   "execution_count": 53,
   "metadata": {},
   "outputs": [
    {
     "data": {
      "text/plain": [
       "{'Amount': {'Amount', 'Fraud', 'Suspicious', 'User Error'}}"
      ]
     },
     "execution_count": 53,
     "metadata": {},
     "output_type": "execute_result"
    }
   ],
   "source": [
    "transact_model.active_trail_nodes('Amount')"
   ]
  },
  {
   "cell_type": "code",
   "execution_count": 52,
   "metadata": {},
   "outputs": [
    {
     "data": {
      "text/plain": [
       "False"
      ]
     },
     "execution_count": 52,
     "metadata": {},
     "output_type": "execute_result"
    }
   ],
   "source": [
    "# Doing some simple queries on the network\n",
    "transact_model.is_active_trail('Amount', 'Time')"
   ]
  },
  {
   "cell_type": "code",
   "execution_count": 31,
   "metadata": {},
   "outputs": [
    {
     "data": {
      "text/plain": [
       "True"
      ]
     },
     "execution_count": 31,
     "metadata": {},
     "output_type": "execute_result"
    }
   ],
   "source": [
    "transact_model.is_active_trail('Amount', 'Time', observed=['Suspicious'])"
   ]
  },
  {
   "cell_type": "code",
   "execution_count": 54,
   "metadata": {},
   "outputs": [
    {
     "data": {
      "text/plain": [
       "{'Amount', 'Fraud', 'Suspicious', 'Time'}"
      ]
     },
     "execution_count": 54,
     "metadata": {},
     "output_type": "execute_result"
    }
   ],
   "source": [
    "transact_model._get_ancestors_of('Fraud')"
   ]
  },
  {
   "cell_type": "code",
   "execution_count": 33,
   "metadata": {},
   "outputs": [
    {
     "data": {
      "text/plain": [
       "(Fraud _|_ User Error, Amount, Time | Suspicious)"
      ]
     },
     "execution_count": 33,
     "metadata": {},
     "output_type": "execute_result"
    }
   ],
   "source": [
    "transact_model.local_independencies('Fraud')"
   ]
  },
  {
   "cell_type": "code",
   "execution_count": 36,
   "metadata": {},
   "outputs": [
    {
     "data": {
      "text/plain": [
       "(Time _|_ Amount)\n",
       "(Time _|_ User Error, Fraud | Suspicious)\n",
       "(Time _|_ Fraud | Suspicious, User Error)\n",
       "(Time _|_ User Error | Suspicious, Fraud)\n",
       "(Time _|_ User Error, Fraud | Suspicious, Amount)\n",
       "(Time _|_ Fraud | Suspicious, User Error, Amount)\n",
       "(Time _|_ User Error | Suspicious, Fraud, Amount)\n",
       "(Amount _|_ Time)\n",
       "(Amount _|_ User Error, Fraud | Suspicious)\n",
       "(Amount _|_ Fraud | Suspicious, User Error)\n",
       "(Amount _|_ User Error | Suspicious, Fraud)\n",
       "(Amount _|_ User Error, Fraud | Suspicious, Time)\n",
       "(Amount _|_ Fraud | Suspicious, User Error, Time)\n",
       "(Amount _|_ User Error | Suspicious, Fraud, Time)\n",
       "(Fraud _|_ User Error, Amount, Time | Suspicious)\n",
       "(Fraud _|_ Amount, Time | Suspicious, User Error)\n",
       "(Fraud _|_ User Error, Time | Suspicious, Amount)\n",
       "(Fraud _|_ User Error, Amount | Suspicious, Time)\n",
       "(Fraud _|_ Time | Suspicious, User Error, Amount)\n",
       "(Fraud _|_ Amount | Suspicious, User Error, Time)\n",
       "(Fraud _|_ User Error | Suspicious, Amount, Time)\n",
       "(User Error _|_ Fraud, Amount, Time | Suspicious)\n",
       "(User Error _|_ Amount, Time | Suspicious, Fraud)\n",
       "(User Error _|_ Fraud, Time | Suspicious, Amount)\n",
       "(User Error _|_ Fraud, Amount | Suspicious, Time)\n",
       "(User Error _|_ Time | Suspicious, Fraud, Amount)\n",
       "(User Error _|_ Amount | Suspicious, Fraud, Time)\n",
       "(User Error _|_ Fraud | Suspicious, Amount, Time)"
      ]
     },
     "execution_count": 36,
     "metadata": {},
     "output_type": "execute_result"
    }
   ],
   "source": [
    "transact_model.get_independencies()"
   ]
  },
  {
   "cell_type": "code",
   "execution_count": 59,
   "metadata": {},
   "outputs": [],
   "source": [
    "# Convert Bayesian Model to Junction Tree/ Clique Tree\n",
    "jt = transact_model.to_junction_tree()"
   ]
  }
 ],
 "metadata": {
  "anaconda-cloud": {},
  "kernelspec": {
   "display_name": "Python 3",
   "language": "python",
   "name": "python3"
  },
  "language_info": {
   "codemirror_mode": {
    "name": "ipython",
    "version": 3
   },
   "file_extension": ".py",
   "mimetype": "text/x-python",
   "name": "python",
   "nbconvert_exporter": "python",
   "pygments_lexer": "ipython3",
   "version": "3.7.3"
  }
 },
 "nbformat": 4,
 "nbformat_minor": 1
}
