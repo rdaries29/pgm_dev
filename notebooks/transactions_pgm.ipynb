{
 "cells": [
  {
   "cell_type": "markdown",
   "metadata": {},
   "source": [
    "The Transcations PGM shown here is derived from the cancer (http://www.bnlearn.com/bnrepository/#cancer) bayesian network architecture using pgmpy and do some simple queries on the network.\n",
    "\n",
    "In pgmpy, the general flow of defining a network is to first define the network and then add the parameters to it.\n",
    "Then we will begin querying the network for results.\n",
    "\n",
    "Note: In this example we are using discrete values for random variables Time,Amount,Suspicious,Fraud and User Error {0,1} for demonstration purposes."
   ]
  },
  {
   "cell_type": "code",
   "execution_count": 21,
   "metadata": {},
   "outputs": [
    {
     "data": {
      "image/png": "[encoded data removed]",
      "text/plain": [
       "<Figure size 432x288 with 1 Axes>"
      ]
     },
     "metadata": {},
     "output_type": "display_data"
    }
   ],
   "source": [
    "# Import Required Packages\n",
    "from pgmpy.models import BayesianModel\n",
    "from pgmpy.inference import VariableElimination\n",
    "import networkx as nx\n",
    "import pylab as plt\n",
    "\n",
    "\n",
    "#Initialise Bayesian Transactions Model\n",
    "transact_model = BayesianModel([('Time', 'Suspicious'), \n",
    "                              ('Amount', 'Suspicious'),\n",
    "                              ('Suspicious', 'Fraud'),\n",
    "                              ('Suspicious', 'User Error')]) \n",
    "\n",
    "\n",
    "# Display PGM using NetworkX package\n",
    "nx.draw(transact_model,width = 3,node_size = 2700, font_size = 10, with_labels=True)\n",
    "plt.show()"
   ]
  },
  {
   "cell_type": "code",
   "execution_count": 2,
   "metadata": {},
   "outputs": [],
   "source": [
    "# Creating the CPD associated with the network\n",
    "from pgmpy.factors.discrete import TabularCPD\n",
    "\n",
    "cpd_time = TabularCPD(variable='Time', variable_card=2,\n",
    "                      values=[[0.9], [0.1]])\n",
    "\n",
    "cpd_amount = TabularCPD(variable='Amount', variable_card=2,\n",
    "                       values=[[0.3], [0.7]])\n",
    "\n",
    "cpd_suspicious = TabularCPD(variable='Suspicious', variable_card=2,\n",
    "                        values=[[0.03, 0.05, 0.001, 0.02],\n",
    "                                [0.97, 0.95, 0.999, 0.98]],\n",
    "                        evidence=['Amount', 'Time'],\n",
    "                        evidence_card=[2, 2])\n",
    "\n",
    "cpd_fraud = TabularCPD(variable='Fraud', variable_card=2,\n",
    "                      values=[[0.9, 0.2], [0.1, 0.8]],\n",
    "                      evidence=['Suspicious'], evidence_card=[2])\n",
    "\n",
    "cpd_user_error = TabularCPD(variable='User Error', variable_card=2,\n",
    "                      values=[[0.65, 0.3], [0.35, 0.7]],\n",
    "                      evidence=['Suspicious'], evidence_card=[2])"
   ]
  },
  {
   "cell_type": "code",
   "execution_count": 3,
   "metadata": {},
   "outputs": [
    {
     "name": "stdout",
     "output_type": "stream",
     "text": [
      "+-----------+-----+\n",
      "| Amount(0) | 0.3 |\n",
      "+-----------+-----+\n",
      "| Amount(1) | 0.7 |\n",
      "+-----------+-----+\n"
     ]
    }
   ],
   "source": [
    "print(cpd_amount)"
   ]
  },
  {
   "cell_type": "code",
   "execution_count": 4,
   "metadata": {},
   "outputs": [
    {
     "name": "stdout",
     "output_type": "stream",
     "text": [
      "+------------+---------------+---------------+\n",
      "| Suspicious | Suspicious(0) | Suspicious(1) |\n",
      "+------------+---------------+---------------+\n",
      "| Fraud(0)   | 0.9           | 0.2           |\n",
      "+------------+---------------+---------------+\n",
      "| Fraud(1)   | 0.1           | 0.8           |\n",
      "+------------+---------------+---------------+\n"
     ]
    }
   ],
   "source": [
    "print(cpd_fraud)"
   ]
  },
  {
   "cell_type": "code",
   "execution_count": 5,
   "metadata": {},
   "outputs": [],
   "source": [
    "# Associating the cpds with the Bayesian Network\n",
    "transact_model.add_cpds(cpd_time, cpd_amount, cpd_suspicious, cpd_fraud, cpd_user_error)"
   ]
  },
  {
   "cell_type": "code",
   "execution_count": 6,
   "metadata": {},
   "outputs": [
    {
     "data": {
      "text/plain": [
       "True"
      ]
     },
     "execution_count": 6,
     "metadata": {},
     "output_type": "execute_result"
    }
   ],
   "source": [
    "# Checking if the transactions cpds are valid for the model.\n",
    "transact_model.check_model()"
   ]
  },
  {
   "cell_type": "code",
   "execution_count": 7,
   "metadata": {},
   "outputs": [
    {
     "data": {
      "text/plain": [
       "{'Amount': {'Amount', 'Fraud', 'Suspicious', 'User Error'}}"
      ]
     },
     "execution_count": 7,
     "metadata": {},
     "output_type": "execute_result"
    }
   ],
   "source": [
    "transact_model.active_trail_nodes('Amount')"
   ]
  },
  {
   "cell_type": "code",
   "execution_count": 8,
   "metadata": {},
   "outputs": [
    {
     "data": {
      "text/plain": [
       "False"
      ]
     },
     "execution_count": 8,
     "metadata": {},
     "output_type": "execute_result"
    }
   ],
   "source": [
    "# Doing some simple queries on the network\n",
    "transact_model.is_active_trail('Amount', 'Time')"
   ]
  },
  {
   "cell_type": "code",
   "execution_count": 9,
   "metadata": {},
   "outputs": [
    {
     "data": {
      "text/plain": [
       "True"
      ]
     },
     "execution_count": 9,
     "metadata": {},
     "output_type": "execute_result"
    }
   ],
   "source": [
    "transact_model.is_active_trail('Amount', 'Time', observed=['Suspicious'])"
   ]
  },
  {
   "cell_type": "code",
   "execution_count": 10,
   "metadata": {},
   "outputs": [
    {
     "data": {
      "text/plain": [
       "{'Amount', 'Fraud', 'Suspicious', 'Time'}"
      ]
     },
     "execution_count": 10,
     "metadata": {},
     "output_type": "execute_result"
    }
   ],
   "source": [
    "transact_model._get_ancestors_of('Fraud')"
   ]
  },
  {
   "cell_type": "code",
   "execution_count": 11,
   "metadata": {},
   "outputs": [
    {
     "data": {
      "text/plain": [
       "(Fraud _|_ Time, Amount, User Error | Suspicious)"
      ]
     },
     "execution_count": 11,
     "metadata": {},
     "output_type": "execute_result"
    }
   ],
   "source": [
    "transact_model.local_independencies('Fraud')"
   ]
  },
  {
   "cell_type": "code",
   "execution_count": 12,
   "metadata": {},
   "outputs": [
    {
     "data": {
      "text/plain": [
       "(Time _|_ Amount)\n",
       "(Time _|_ Fraud, User Error | Suspicious)\n",
       "(Time _|_ Fraud, User Error | Amount, Suspicious)\n",
       "(Time _|_ User Error | Fraud, Suspicious)\n",
       "(Time _|_ Fraud | User Error, Suspicious)\n",
       "(Time _|_ User Error | Amount, Fraud, Suspicious)\n",
       "(Time _|_ Fraud | Amount, User Error, Suspicious)\n",
       "(Amount _|_ Time)\n",
       "(Amount _|_ Fraud, User Error | Suspicious)\n",
       "(Amount _|_ Fraud, User Error | Time, Suspicious)\n",
       "(Amount _|_ User Error | Fraud, Suspicious)\n",
       "(Amount _|_ Fraud | User Error, Suspicious)\n",
       "(Amount _|_ User Error | Time, Fraud, Suspicious)\n",
       "(Amount _|_ Fraud | Time, User Error, Suspicious)\n",
       "(Fraud _|_ Time, Amount, User Error | Suspicious)\n",
       "(Fraud _|_ Amount, User Error | Time, Suspicious)\n",
       "(Fraud _|_ Time, User Error | Amount, Suspicious)\n",
       "(Fraud _|_ Time, Amount | User Error, Suspicious)\n",
       "(Fraud _|_ User Error | Time, Amount, Suspicious)\n",
       "(Fraud _|_ Amount | Time, User Error, Suspicious)\n",
       "(Fraud _|_ Time | Amount, User Error, Suspicious)\n",
       "(User Error _|_ Time, Amount, Fraud | Suspicious)\n",
       "(User Error _|_ Amount, Fraud | Time, Suspicious)\n",
       "(User Error _|_ Time, Fraud | Amount, Suspicious)\n",
       "(User Error _|_ Time, Amount | Fraud, Suspicious)\n",
       "(User Error _|_ Fraud | Time, Amount, Suspicious)\n",
       "(User Error _|_ Amount | Time, Fraud, Suspicious)\n",
       "(User Error _|_ Time | Amount, Fraud, Suspicious)"
      ]
     },
     "execution_count": 12,
     "metadata": {},
     "output_type": "execute_result"
    }
   ],
   "source": [
    "transact_model.get_independencies()"
   ]
  },
  {
   "cell_type": "code",
   "execution_count": 13,
   "metadata": {},
   "outputs": [],
   "source": [
    "# Convert Bayesian Model to Junction Tree/ Clique Tree\n",
    "jt = transact_model.to_junction_tree()"
   ]
  },
  {
   "cell_type": "markdown",
   "metadata": {},
   "source": [
    "After constructing the PGM, we are able to do exact Inference using Variable Elimination"
   ]
  },
  {
   "cell_type": "code",
   "execution_count": 20,
   "metadata": {},
   "outputs": [
    {
     "name": "stderr",
     "output_type": "stream",
     "text": [
      "Finding Elimination Order: : 100%|██████████| 3/3 [00:00<00:00, 1445.81it/s]\n",
      "Eliminating: User Error: 100%|██████████| 3/3 [00:00<00:00, 303.39it/s]\n",
      "Finding Elimination Order: : 100%|██████████| 3/3 [00:00<00:00, 1177.84it/s]\n",
      "Eliminating: Fraud: 100%|██████████| 3/3 [00:00<00:00, 299.58it/s]"
     ]
    },
    {
     "name": "stdout",
     "output_type": "stream",
     "text": [
      "+----------+--------------+\n",
      "| Fraud    |   phi(Fraud) |\n",
      "+==========+==============+\n",
      "| Fraud(0) |       0.2000 |\n",
      "+----------+--------------+\n",
      "| Fraud(1) |       0.8000 |\n",
      "+----------+--------------+\n",
      "+---------------+-------------------+\n",
      "| User Error    |   phi(User Error) |\n",
      "+===============+===================+\n",
      "| User Error(0) |            0.6500 |\n",
      "+---------------+-------------------+\n",
      "| User Error(1) |            0.3500 |\n",
      "+---------------+-------------------+\n"
     ]
    },
    {
     "name": "stderr",
     "output_type": "stream",
     "text": [
      "\n"
     ]
    }
   ],
   "source": [
    "transact_infer = VariableElimination(transact_model)\n",
    "\n",
    "# Computing the probability of Fraud given Suspicious = 1.\n",
    "q_fraud = transact_infer.query(variables=['Fraud'], evidence={'Suspicious': 1})\n",
    "print(q_fraud)\n",
    "\n",
    "# Computing the probability of User Error given Suspicious = 0.\n",
    "q_user_error = transact_infer.query(variables=['User Error'], evidence={'Suspicious': 0})\n",
    "print(q_user_error)\n"
   ]
  }
 ],
 "metadata": {
  "anaconda-cloud": {},
  "kernelspec": {
   "display_name": "Python 3",
   "language": "python",
   "name": "python3"
  },
  "language_info": {
   "codemirror_mode": {
    "name": "ipython",
    "version": 3
   },
   "file_extension": ".py",
   "mimetype": "text/x-python",
   "name": "python",
   "nbconvert_exporter": "python",
   "pygments_lexer": "ipython3",
   "version": "3.7.3"
  }
 },
 "nbformat": 4,
 "nbformat_minor": 1
}
